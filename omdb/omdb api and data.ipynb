{
 "cells": [
  {
   "cell_type": "code",
   "execution_count": 3,
   "metadata": {
    "collapsed": true
   },
   "outputs": [
    {
     "ename": "ModuleNotFoundError",
     "evalue": "No module named 'config'",
     "output_type": "error",
     "traceback": [
      "\u001b[1;31m---------------------------------------------------------------------------\u001b[0m",
      "\u001b[1;31mModuleNotFoundError\u001b[0m                       Traceback (most recent call last)",
      "\u001b[1;32me:\\workdocs\\Course\\omdb api and data.ipynb Cell 1\u001b[0m in \u001b[0;36m<cell line: 3>\u001b[1;34m()\u001b[0m\n\u001b[0;32m      <a href='vscode-notebook-cell:/e%3A/workdocs/Course/omdb%20api%20and%20data.ipynb#W1sZmlsZQ%3D%3D?line=0'>1</a>\u001b[0m \u001b[39m# Dependencies\u001b[39;00m\n\u001b[0;32m      <a href='vscode-notebook-cell:/e%3A/workdocs/Course/omdb%20api%20and%20data.ipynb#W1sZmlsZQ%3D%3D?line=1'>2</a>\u001b[0m \u001b[39mimport\u001b[39;00m \u001b[39mrequests\u001b[39;00m\n\u001b[1;32m----> <a href='vscode-notebook-cell:/e%3A/workdocs/Course/omdb%20api%20and%20data.ipynb#W1sZmlsZQ%3D%3D?line=2'>3</a>\u001b[0m \u001b[39mfrom\u001b[39;00m \u001b[39mconfig\u001b[39;00m \u001b[39mimport\u001b[39;00m api_key\n\u001b[0;32m      <a href='vscode-notebook-cell:/e%3A/workdocs/Course/omdb%20api%20and%20data.ipynb#W1sZmlsZQ%3D%3D?line=3'>4</a>\u001b[0m \u001b[39mimport\u001b[39;00m \u001b[39mpandas\u001b[39;00m \u001b[39mas\u001b[39;00m \u001b[39mpd\u001b[39;00m\n\u001b[0;32m      <a href='vscode-notebook-cell:/e%3A/workdocs/Course/omdb%20api%20and%20data.ipynb#W1sZmlsZQ%3D%3D?line=4'>5</a>\u001b[0m \u001b[39mimport\u001b[39;00m \u001b[39mcsv\u001b[39;00m\n",
      "\u001b[1;31mModuleNotFoundError\u001b[0m: No module named 'config'"
     ]
    }
   ],
   "source": [
    "# Dependencies\n",
    "import requests\n",
    "from config import api_key\n",
    "import pandas as pd\n",
    "import csv\n",
    "\n",
    "\n",
    "url = f\"http://www.omdbapi.com/?apikey={api_key}&t=\""
   ]
  },
  {
   "cell_type": "code",
   "execution_count": 9,
   "metadata": {},
   "outputs": [
    {
     "data": {
      "text/plain": [
       "{'Title': 'Aliens',\n",
       " 'Year': '1986',\n",
       " 'Rated': 'R',\n",
       " 'Released': '18 Jul 1986',\n",
       " 'Runtime': '137 min',\n",
       " 'Genre': 'Action, Adventure, Sci-Fi',\n",
       " 'Director': 'James Cameron',\n",
       " 'Writer': 'James Cameron, David Giler, Walter Hill',\n",
       " 'Actors': 'Sigourney Weaver, Michael Biehn, Carrie Henn',\n",
       " 'Plot': 'Fifty-seven years after surviving an apocalyptic attack aboard her space vessel by merciless space creatures, Officer Ripley awakens from hyper-sleep and tries to warn anyone who will listen about the predators.',\n",
       " 'Language': 'English, Spanish',\n",
       " 'Country': 'United Kingdom, United States',\n",
       " 'Awards': 'Won 2 Oscars. 20 wins & 23 nominations total',\n",
       " 'Poster': 'https://m.media-amazon.com/images/M/MV5BZGU2OGY5ZTYtMWNhYy00NjZiLWI0NjUtZmNhY2JhNDRmODU3XkEyXkFqcGdeQXVyNzkwMjQ5NzM@._V1_SX300.jpg',\n",
       " 'Ratings': [{'Source': 'Internet Movie Database', 'Value': '8.4/10'},\n",
       "  {'Source': 'Rotten Tomatoes', 'Value': '98%'},\n",
       "  {'Source': 'Metacritic', 'Value': '84/100'}],\n",
       " 'Metascore': '84',\n",
       " 'imdbRating': '8.4',\n",
       " 'imdbVotes': '716,518',\n",
       " 'imdbID': 'tt0090605',\n",
       " 'Type': 'movie',\n",
       " 'DVD': '01 Jun 1999',\n",
       " 'BoxOffice': '$85,160,248',\n",
       " 'Production': 'N/A',\n",
       " 'Website': 'N/A',\n",
       " 'Response': 'True'}"
      ]
     },
     "execution_count": 9,
     "metadata": {},
     "output_type": "execute_result"
    }
   ],
   "source": [
    "# Who was the director of the movie Aliens?\n",
    "movie = requests.get(url + \"Aliens\").json()\n",
    "movie\n",
    "\n"
   ]
  },
  {
   "cell_type": "code",
   "execution_count": 10,
   "metadata": {},
   "outputs": [
    {
     "data": {
      "text/html": [
       "<div>\n",
       "<style scoped>\n",
       "    .dataframe tbody tr th:only-of-type {\n",
       "        vertical-align: middle;\n",
       "    }\n",
       "\n",
       "    .dataframe tbody tr th {\n",
       "        vertical-align: top;\n",
       "    }\n",
       "\n",
       "    .dataframe thead th {\n",
       "        text-align: right;\n",
       "    }\n",
       "</style>\n",
       "<table border=\"1\" class=\"dataframe\">\n",
       "  <thead>\n",
       "    <tr style=\"text-align: right;\">\n",
       "      <th></th>\n",
       "      <th>Title</th>\n",
       "      <th>Year</th>\n",
       "      <th>Rated</th>\n",
       "      <th>Released</th>\n",
       "      <th>Runtime</th>\n",
       "      <th>Genre</th>\n",
       "      <th>Director</th>\n",
       "      <th>Writer</th>\n",
       "      <th>Actors</th>\n",
       "      <th>Plot</th>\n",
       "      <th>...</th>\n",
       "      <th>Metascore</th>\n",
       "      <th>imdbRating</th>\n",
       "      <th>imdbVotes</th>\n",
       "      <th>imdbID</th>\n",
       "      <th>Type</th>\n",
       "      <th>DVD</th>\n",
       "      <th>BoxOffice</th>\n",
       "      <th>Production</th>\n",
       "      <th>Website</th>\n",
       "      <th>Response</th>\n",
       "    </tr>\n",
       "  </thead>\n",
       "  <tbody>\n",
       "    <tr>\n",
       "      <th>0</th>\n",
       "      <td>Aliens</td>\n",
       "      <td>1986</td>\n",
       "      <td>R</td>\n",
       "      <td>18 Jul 1986</td>\n",
       "      <td>137 min</td>\n",
       "      <td>Action, Adventure, Sci-Fi</td>\n",
       "      <td>James Cameron</td>\n",
       "      <td>James Cameron, David Giler, Walter Hill</td>\n",
       "      <td>Sigourney Weaver, Michael Biehn, Carrie Henn</td>\n",
       "      <td>Fifty-seven years after surviving an apocalypt...</td>\n",
       "      <td>...</td>\n",
       "      <td>84</td>\n",
       "      <td>8.4</td>\n",
       "      <td>716,518</td>\n",
       "      <td>tt0090605</td>\n",
       "      <td>movie</td>\n",
       "      <td>01 Jun 1999</td>\n",
       "      <td>$85,160,248</td>\n",
       "      <td>N/A</td>\n",
       "      <td>N/A</td>\n",
       "      <td>True</td>\n",
       "    </tr>\n",
       "    <tr>\n",
       "      <th>1</th>\n",
       "      <td>Aliens</td>\n",
       "      <td>1986</td>\n",
       "      <td>R</td>\n",
       "      <td>18 Jul 1986</td>\n",
       "      <td>137 min</td>\n",
       "      <td>Action, Adventure, Sci-Fi</td>\n",
       "      <td>James Cameron</td>\n",
       "      <td>James Cameron, David Giler, Walter Hill</td>\n",
       "      <td>Sigourney Weaver, Michael Biehn, Carrie Henn</td>\n",
       "      <td>Fifty-seven years after surviving an apocalypt...</td>\n",
       "      <td>...</td>\n",
       "      <td>84</td>\n",
       "      <td>8.4</td>\n",
       "      <td>716,518</td>\n",
       "      <td>tt0090605</td>\n",
       "      <td>movie</td>\n",
       "      <td>01 Jun 1999</td>\n",
       "      <td>$85,160,248</td>\n",
       "      <td>N/A</td>\n",
       "      <td>N/A</td>\n",
       "      <td>True</td>\n",
       "    </tr>\n",
       "    <tr>\n",
       "      <th>2</th>\n",
       "      <td>Aliens</td>\n",
       "      <td>1986</td>\n",
       "      <td>R</td>\n",
       "      <td>18 Jul 1986</td>\n",
       "      <td>137 min</td>\n",
       "      <td>Action, Adventure, Sci-Fi</td>\n",
       "      <td>James Cameron</td>\n",
       "      <td>James Cameron, David Giler, Walter Hill</td>\n",
       "      <td>Sigourney Weaver, Michael Biehn, Carrie Henn</td>\n",
       "      <td>Fifty-seven years after surviving an apocalypt...</td>\n",
       "      <td>...</td>\n",
       "      <td>84</td>\n",
       "      <td>8.4</td>\n",
       "      <td>716,518</td>\n",
       "      <td>tt0090605</td>\n",
       "      <td>movie</td>\n",
       "      <td>01 Jun 1999</td>\n",
       "      <td>$85,160,248</td>\n",
       "      <td>N/A</td>\n",
       "      <td>N/A</td>\n",
       "      <td>True</td>\n",
       "    </tr>\n",
       "  </tbody>\n",
       "</table>\n",
       "<p>3 rows × 25 columns</p>\n",
       "</div>"
      ],
      "text/plain": [
       "    Title  Year Rated     Released  Runtime                      Genre  \\\n",
       "0  Aliens  1986     R  18 Jul 1986  137 min  Action, Adventure, Sci-Fi   \n",
       "1  Aliens  1986     R  18 Jul 1986  137 min  Action, Adventure, Sci-Fi   \n",
       "2  Aliens  1986     R  18 Jul 1986  137 min  Action, Adventure, Sci-Fi   \n",
       "\n",
       "        Director                                   Writer  \\\n",
       "0  James Cameron  James Cameron, David Giler, Walter Hill   \n",
       "1  James Cameron  James Cameron, David Giler, Walter Hill   \n",
       "2  James Cameron  James Cameron, David Giler, Walter Hill   \n",
       "\n",
       "                                         Actors  \\\n",
       "0  Sigourney Weaver, Michael Biehn, Carrie Henn   \n",
       "1  Sigourney Weaver, Michael Biehn, Carrie Henn   \n",
       "2  Sigourney Weaver, Michael Biehn, Carrie Henn   \n",
       "\n",
       "                                                Plot  ... Metascore  \\\n",
       "0  Fifty-seven years after surviving an apocalypt...  ...        84   \n",
       "1  Fifty-seven years after surviving an apocalypt...  ...        84   \n",
       "2  Fifty-seven years after surviving an apocalypt...  ...        84   \n",
       "\n",
       "  imdbRating imdbVotes     imdbID   Type          DVD    BoxOffice Production  \\\n",
       "0        8.4   716,518  tt0090605  movie  01 Jun 1999  $85,160,248        N/A   \n",
       "1        8.4   716,518  tt0090605  movie  01 Jun 1999  $85,160,248        N/A   \n",
       "2        8.4   716,518  tt0090605  movie  01 Jun 1999  $85,160,248        N/A   \n",
       "\n",
       "  Website Response  \n",
       "0     N/A     True  \n",
       "1     N/A     True  \n",
       "2     N/A     True  \n",
       "\n",
       "[3 rows x 25 columns]"
      ]
     },
     "execution_count": 10,
     "metadata": {},
     "output_type": "execute_result"
    }
   ],
   "source": [
    "omdb_df = pd.DataFrame.from_dict(movie, orient='columns')\n",
    "omdb_df"
   ]
  },
  {
   "cell_type": "code",
   "execution_count": 2,
   "metadata": {},
   "outputs": [
    {
     "ename": "NameError",
     "evalue": "name 'pd' is not defined",
     "output_type": "error",
     "traceback": [
      "\u001b[1;31m---------------------------------------------------------------------------\u001b[0m",
      "\u001b[1;31mNameError\u001b[0m                                 Traceback (most recent call last)",
      "\u001b[1;32me:\\workdocs\\Course\\omdb api and data.ipynb Cell 4\u001b[0m in \u001b[0;36m<cell line: 1>\u001b[1;34m()\u001b[0m\n\u001b[1;32m----> <a href='vscode-notebook-cell:/e%3A/workdocs/Course/omdb%20api%20and%20data.ipynb#W4sZmlsZQ%3D%3D?line=0'>1</a>\u001b[0m pd\u001b[39m.\u001b[39mDataFrame(omdb_df)\u001b[39m.\u001b[39mto_csv(omdb_sample\u001b[39m.\u001b[39mcsv)\n",
      "\u001b[1;31mNameError\u001b[0m: name 'pd' is not defined"
     ]
    }
   ],
   "source": [
    "pd.DataFrame(omdb_df).to_csv(omdb_sample.csv)"
   ]
  },
  {
   "cell_type": "code",
   "execution_count": 2,
   "metadata": {},
   "outputs": [
    {
     "name": "stdout",
     "output_type": "stream",
     "text": [
      "The director of Aliens was James Cameron.\n"
     ]
    }
   ],
   "source": [
    "\n",
    "print(f'The director of Aliens was {movie[\"Director\"]}.')"
   ]
  },
  {
   "cell_type": "code",
   "execution_count": 3,
   "metadata": {
    "scrolled": true
   },
   "outputs": [
    {
     "name": "stdout",
     "output_type": "stream",
     "text": [
      "The rating of Gladiator was R.\n"
     ]
    }
   ],
   "source": [
    "# What was the movie Gladiator rated?\n",
    "movie = requests.get(url + \"Gladiator\").json()\n",
    "print(f'The rating of Gladiator was {movie[\"Rated\"]}.')"
   ]
  },
  {
   "cell_type": "code",
   "execution_count": 4,
   "metadata": {},
   "outputs": [
    {
     "name": "stdout",
     "output_type": "stream",
     "text": [
      "The movie 50 First Dates was released in 2004.\n"
     ]
    }
   ],
   "source": [
    "# What year was 50 First Dates released?\n",
    "movie = requests.get(url + \"50 First Dates\").json()\n",
    "print(f'The movie 50 First Dates was released in {movie[\"Year\"]}.')"
   ]
  },
  {
   "cell_type": "code",
   "execution_count": 5,
   "metadata": {
    "scrolled": true
   },
   "outputs": [
    {
     "name": "stdout",
     "output_type": "stream",
     "text": [
      "Moana was written by Jared Bush (screenplay by), Ron Clements (story by), John Musker (story by), Chris Williams (story by), Don Hall (story by), Pamela Ribon (story by), Aaron Kandell (story by), Jordan Kandell (story by).\n"
     ]
    }
   ],
   "source": [
    "# Who wrote Moana?\n",
    "movie = requests.get(url + \"Moana\").json()\n",
    "print(f'Moana was written by {movie[\"Writer\"]}.')"
   ]
  },
  {
   "cell_type": "code",
   "execution_count": 6,
   "metadata": {
    "scrolled": true
   },
   "outputs": [
    {
     "name": "stdout",
     "output_type": "stream",
     "text": [
      "The plot of Sing was: In a city of humanoid animals, a hustling theater impresario's attempt to save his theater with a singing competition becomes grander than he anticipates even as its finalists' find that their lives will never be the same.\n"
     ]
    }
   ],
   "source": [
    "# What was the plot of the movie Sing?\n",
    "movie = requests.get(url + \"Sing\").json()\n",
    "print(f'The plot of Sing was: {movie[\"Plot\"]}')"
   ]
  }
 ],
 "metadata": {
  "kernelspec": {
   "display_name": "Python 3.9.12 ('base')",
   "language": "python",
   "name": "python3"
  },
  "language_info": {
   "codemirror_mode": {
    "name": "ipython",
    "version": 3
   },
   "file_extension": ".py",
   "mimetype": "text/x-python",
   "name": "python",
   "nbconvert_exporter": "python",
   "pygments_lexer": "ipython3",
   "version": "3.9.12"
  },
  "varInspector": {
   "cols": {
    "lenName": 16,
    "lenType": 16,
    "lenVar": 40
   },
   "kernels_config": {
    "python": {
     "delete_cmd_postfix": "",
     "delete_cmd_prefix": "del ",
     "library": "var_list.py",
     "varRefreshCmd": "print(var_dic_list())"
    },
    "r": {
     "delete_cmd_postfix": ") ",
     "delete_cmd_prefix": "rm(",
     "library": "var_list.r",
     "varRefreshCmd": "cat(var_dic_list()) "
    }
   },
   "types_to_exclude": [
    "module",
    "function",
    "builtin_function_or_method",
    "instance",
    "_Feature"
   ],
   "window_display": false
  },
  "vscode": {
   "interpreter": {
    "hash": "84d8cac4d95fdd2ab02498a6ec40a50cb9882041e67cb52e6d8bcfda00d28db9"
   }
  }
 },
 "nbformat": 4,
 "nbformat_minor": 2
}
