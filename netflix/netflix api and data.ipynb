{
 "cells": [
  {
   "cell_type": "code",
   "execution_count": 1,
   "metadata": {
    "collapsed": true
   },
   "outputs": [],
   "source": [
    "# Dependencies\n",
    "import requests\n",
    "from config import api_key\n",
    "import pandas as pd\n",
    "import csv\n",
    "\n",
    "\n",
    "url = f\"http://www.omdbapi.com/?apikey={api_key}&t=\""
   ]
  },
  {
   "cell_type": "code",
   "execution_count": 8,
   "metadata": {},
   "outputs": [
    {
     "name": "stdout",
     "output_type": "stream",
     "text": [
      "{\"Object\":{\"total\":38550,\"limit\":100,\"offset\":0},\"results\":[{\"netflix_id\":70148664,\"country_id\":46,\"title\":\"Damned by Dawn\",\"delete_date\":\"2015-08-01\",\"country_code\":\"GB\"},{\"netflix_id\":70119442,\"country_id\":46,\"title\":\"The Tempest\",\"delete_date\":\"2015-08-01\",\"country_code\":\"GB\"},{\"netflix_id\":70011216,\"country_id\":46,\"title\":\"An Unfinished Life\",\"delete_date\":\"2015-08-01\",\"country_code\":\"GB\"},{\"netflix_id\":70104136,\"country_id\":46,\"title\":\"Thomas and Friends: The Great Discovery\",\"delete_date\":\"2015-08-01\",\"country_code\":\"GB\"},{\"netflix_id\":70277943,\"country_id\":46,\"title\":\"Brendon Burns: Y\\u0026#39;Know - Love \\u0026#39;N\\u0026#39; God \\u0026#39;N\\u0026#39; Metaphysics \\u0026#39;N\\u0026#39; S**t (A Song For Bean)\",\"delete_date\":\"2015-08-01\",\"country_code\":\"GB\"},{\"netflix_id\":70219181,\"country_id\":46,\"title\":\"Bob the Builder: The Knights of Can-a-Lot\",\"delete_date\":\"2015-08-01\",\"country_code\":\"GB\"},{\"netflix_id\":60000453,\"country_id\":46,\"title\":\"Bicentennial Man\",\"delete_date\":\"2015-08-01\",\"country_code\":\"GB\"},{\"netflix_id\":70074613,\"country_id\":46,\"title\":\"Bob the Builder: Scrambler to the Rescue\",\"delete_date\":\"2015-08-01\",\"country_code\":\"GB\"},{\"netflix_id\":70111243,\"country_id\":46,\"title\":\"Bob the Builder: Race to the Finish\",\"delete_date\":\"2015-08-01\",\"country_code\":\"GB\"},{\"netflix_id\":70158368,\"country_id\":46,\"title\":\"Doctor Who: The Movie\",\"delete_date\":\"2015-08-01\",\"country_code\":\"GB\"},{\"netflix_id\":70245170,\"country_id\":46,\"title\":\"Upstairs, Downstairs\",\"delete_date\":\"2015-08-01\",\"country_code\":\"GB\"},{\"netflix_id\":70262788,\"country_id\":46,\"title\":\"Treasure Guards\",\"delete_date\":\"2015-08-01\",\"country_code\":\"GB\"},{\"netflix_id\":70243570,\"country_id\":46,\"title\":\"Welcome to the Punch\",\"delete_date\":\"2015-08-01\",\"country_code\":\"GB\"},{\"netflix_id\":70043455,\"country_id\":46,\"title\":\"The Prince and Me 2: The Royal Wedding\",\"delete_date\":\"2015-08-01\",\"country_code\":\"GB\"},{\"netflix_id\":70291669,\"country_id\":46,\"title\":\"Bomb Patrol: Afghanistan\",\"delete_date\":\"2015-08-01\",\"country_code\":\"GB\"},{\"netflix_id\":60027711,\"country_id\":46,\"title\":\"Ghosts of the Abyss\",\"delete_date\":\"2015-08-01\",\"country_code\":\"GB\"},{\"netflix_id\":70110844,\"country_id\":46,\"title\":\"Russell Peters: Red, White and Brown\",\"delete_date\":\"2015-08-01\",\"country_code\":\"GB\"},{\"netflix_id\":70166098,\"country_id\":46,\"title\":\"Make It or Break It\",\"delete_date\":\"2015-08-01\",\"country_code\":\"GB\"},{\"netflix_id\":70053833,\"country_id\":46,\"title\":\"Black Snake Moan\",\"delete_date\":\"2015-08-01\",\"country_code\":\"GB\"},{\"netflix_id\":70061707,\"country_id\":46,\"title\":\"Seraphim Falls\",\"delete_date\":\"2015-08-01\",\"country_code\":\"GB\"},{\"netflix_id\":60023626,\"country_id\":46,\"title\":\"Swimfan\",\"delete_date\":\"2015-08-01\",\"country_code\":\"GB\"},{\"netflix_id\":70157368,\"country_id\":46,\"title\":\"Kyle XY\",\"delete_date\":\"2015-08-01\",\"country_code\":\"GB\"},{\"netflix_id\":70045853,\"country_id\":46,\"title\":\"Miss Potter\",\"delete_date\":\"2015-08-01\",\"country_code\":\"GB\"},{\"netflix_id\":70140424,\"country_id\":46,\"title\":\"Primeval\",\"delete_date\":\"2015-08-01\",\"country_code\":\"GB\"},{\"netflix_id\":70109677,\"country_id\":46,\"title\":\"Splinter\",\"delete_date\":\"2015-08-01\",\"country_code\":\"GB\"},{\"netflix_id\":70259268,\"country_id\":46,\"title\":\"Underbelly\",\"delete_date\":\"2015-08-01\",\"country_code\":\"GB\"},{\"netflix_id\":60021098,\"country_id\":46,\"title\":\"The Musketeer\",\"delete_date\":\"2015-08-01\",\"country_code\":\"GB\"},{\"netflix_id\":60027699,\"country_id\":46,\"title\":\"Sweet Sixteen\",\"delete_date\":\"2015-08-01\",\"country_code\":\"GB\"},{\"netflix_id\":70053460,\"country_id\":46,\"title\":\"Hostel: Part II\",\"delete_date\":\"2015-08-01\",\"country_code\":\"GB\"},{\"netflix_id\":70108724,\"country_id\":46,\"title\":\"Slap Shot 3: The Junior League\",\"delete_date\":\"2015-08-01\",\"country_code\":\"GB\"},{\"netflix_id\":70307779,\"country_id\":46,\"title\":\"Richard III: The King in the Carpark\",\"delete_date\":\"2015-08-01\",\"country_code\":\"GB\"},{\"netflix_id\":60004085,\"country_id\":46,\"title\":\"North Dallas Forty\",\"delete_date\":\"2015-08-01\",\"country_code\":\"GB\"},{\"netflix_id\":26797528,\"country_id\":46,\"title\":\"The Sixth Sense\",\"delete_date\":\"2015-08-01\",\"country_code\":\"GB\"},{\"netflix_id\":70041958,\"country_id\":46,\"title\":\"Annapolis\",\"delete_date\":\"2015-08-01\",\"country_code\":\"GB\"},{\"netflix_id\":70051747,\"country_id\":46,\"title\":\"Anita and Me\",\"delete_date\":\"2015-08-01\",\"country_code\":\"GB\"},{\"netflix_id\":70236561,\"country_id\":46,\"title\":\"Top Boy\",\"delete_date\":\"2015-08-01\",\"country_code\":\"GB\"},{\"netflix_id\":287438,\"country_id\":46,\"title\":\"Bats\",\"delete_date\":\"2015-08-01\",\"country_code\":\"GB\"},{\"netflix_id\":60004278,\"country_id\":46,\"title\":\"Buddy\",\"delete_date\":\"2015-08-01\",\"country_code\":\"GB\"},{\"netflix_id\":749055,\"country_id\":46,\"title\":\"Maximum Risk\",\"delete_date\":\"2015-08-01\",\"country_code\":\"GB\"},{\"netflix_id\":19580286,\"country_id\":46,\"title\":\"Jawbreaker\",\"delete_date\":\"2015-08-01\",\"country_code\":\"GB\"},{\"netflix_id\":70308955,\"country_id\":46,\"title\":\"Brave New World\",\"delete_date\":\"2015-08-01\",\"country_code\":\"GB\"},{\"netflix_id\":70234568,\"country_id\":46,\"title\":\"Cutting Edge: Cocaine\",\"delete_date\":\"2015-08-01\",\"country_code\":\"GB\"},{\"netflix_id\":60020512,\"country_id\":46,\"title\":\"Cheech and Chong\\u0026#39;s Nice Dreams\",\"delete_date\":\"2015-08-01\",\"country_code\":\"GB\"},{\"netflix_id\":404067,\"country_id\":46,\"title\":\"The Craft\",\"delete_date\":\"2015-08-01\",\"country_code\":\"GB\"},{\"netflix_id\":70307183,\"country_id\":46,\"title\":\"Churchill and the Fascist Plot\",\"delete_date\":\"2015-08-01\",\"country_code\":\"GB\"},{\"netflix_id\":80001002,\"country_id\":46,\"title\":\"Comedy Showcase: Milton Jones\\u0026#39;s House of Rooms\",\"delete_date\":\"2015-08-01\",\"country_code\":\"GB\"},{\"netflix_id\":80001000,\"country_id\":46,\"title\":\"Comedy Showcase: Coma Girl\",\"delete_date\":\"2015-08-01\",\"country_code\":\"GB\"},{\"netflix_id\":70120803,\"country_id\":46,\"title\":\"Call of the Wild\",\"delete_date\":\"2015-08-01\",\"country_code\":\"GB\"},{\"netflix_id\":60035813,\"country_id\":46,\"title\":\"Herbie Goes Bananas\",\"delete_date\":\"2015-08-01\",\"country_code\":\"GB\"},{\"netflix_id\":70273671,\"country_id\":46,\"title\":\"A Country Coyote Goes Hollywood\",\"delete_date\":\"2015-08-01\",\"country_code\":\"GB\"},{\"netflix_id\":70227175,\"country_id\":46,\"title\":\"This Is England\",\"delete_date\":\"2015-08-01\",\"country_code\":\"GB\"},{\"netflix_id\":80001005,\"country_id\":46,\"title\":\"Cutting Edge: The Club\",\"delete_date\":\"2015-08-01\",\"country_code\":\"GB\"},{\"netflix_id\":80001004,\"country_id\":46,\"title\":\"Cutting Edge: Blind Young Things\",\"delete_date\":\"2015-08-01\",\"country_code\":\"GB\"},{\"netflix_id\":70217141,\"country_id\":46,\"title\":\"Father Ted\",\"delete_date\":\"2015-08-01\",\"country_code\":\"GB\"},{\"netflix_id\":70287700,\"country_id\":46,\"title\":\"Fireman Sam\",\"delete_date\":\"2015-08-01\",\"country_code\":\"GB\"},{\"netflix_id\":70223365,\"country_id\":46,\"title\":\"Ultimate Force\",\"delete_date\":\"2015-08-01\",\"country_code\":\"GB\"},{\"netflix_id\":60031296,\"country_id\":46,\"title\":\"The Fog of War\",\"delete_date\":\"2015-08-01\",\"country_code\":\"GB\"},{\"netflix_id\":70157324,\"country_id\":46,\"title\":\"My Hero\",\"delete_date\":\"2015-08-01\",\"country_code\":\"GB\"},{\"netflix_id\":70157389,\"country_id\":46,\"title\":\"Hyperdrive\",\"delete_date\":\"2015-08-01\",\"country_code\":\"GB\"},{\"netflix_id\":14606161,\"country_id\":46,\"title\":\"The Big Hit\",\"delete_date\":\"2015-08-01\",\"country_code\":\"GB\"},{\"netflix_id\":982001,\"country_id\":46,\"title\":\"Son in Law\",\"delete_date\":\"2015-08-01\",\"country_code\":\"GB\"},{\"netflix_id\":318448,\"country_id\":46,\"title\":\"The Blue Lagoon\",\"delete_date\":\"2015-08-01\",\"country_code\":\"GB\"},{\"netflix_id\":70141486,\"country_id\":46,\"title\":\"Night Of The Living Dead\",\"delete_date\":\"2015-08-01\",\"country_code\":\"GB\"},{\"netflix_id\":70070313,\"country_id\":46,\"title\":\"To Love and Die in L.A.\",\"delete_date\":\"2015-08-01\",\"country_code\":\"GB\"},{\"netflix_id\":70279290,\"country_id\":46,\"title\":\"Steve Coogan As Alan Partridge and Other Less Successful Characters\",\"delete_date\":\"2015-08-01\",\"country_code\":\"GB\"},{\"netflix_id\":60021768,\"country_id\":46,\"title\":\"Murder by Death\",\"delete_date\":\"2015-08-01\",\"country_code\":\"GB\"},{\"netflix_id\":70117035,\"country_id\":46,\"title\":\"Paintball\",\"delete_date\":\"2015-08-01\",\"country_code\":\"GB\"},{\"netflix_id\":60020824,\"country_id\":46,\"title\":\"Thirteen Ghosts\",\"delete_date\":\"2015-08-01\",\"country_code\":\"GB\"},{\"netflix_id\":70241758,\"country_id\":46,\"title\":\"Snitch\",\"delete_date\":\"2015-08-01\",\"country_code\":\"GB\"},{\"netflix_id\":70232186,\"country_id\":46,\"title\":\"Born 2 Race\",\"delete_date\":\"2015-08-01\",\"country_code\":\"GB\"},{\"netflix_id\":70307780,\"country_id\":46,\"title\":\"Skint\",\"delete_date\":\"2015-08-01\",\"country_code\":\"GB\"},{\"netflix_id\":60004279,\"country_id\":46,\"title\":\"Rudyard Kipling\\u0026#39;s The Second Jungle Book: Mowgli and Baloo\",\"delete_date\":\"2015-08-01\",\"country_code\":\"GB\"},{\"netflix_id\":70307342,\"country_id\":46,\"title\":\"Sex Toy Stories\",\"delete_date\":\"2015-08-01\",\"country_code\":\"GB\"},{\"netflix_id\":60026969,\"country_id\":46,\"title\":\"Care Bears Movie II: A New Generation\",\"delete_date\":\"2015-08-01\",\"country_code\":\"GB\"},{\"netflix_id\":70058012,\"country_id\":46,\"title\":\"Vacancy\",\"delete_date\":\"2015-08-01\",\"country_code\":\"GB\"},{\"netflix_id\":70205625,\"country_id\":46,\"title\":\"Barney and Friends\",\"delete_date\":\"2015-08-01\",\"country_code\":\"GB\"},{\"netflix_id\":70202611,\"country_id\":46,\"title\":\"The State Within\",\"delete_date\":\"2015-08-01\",\"country_code\":\"GB\"},{\"netflix_id\":70206898,\"country_id\":46,\"title\":\"Thomas and Friends\",\"delete_date\":\"2015-08-01\",\"country_code\":\"GB\"},{\"netflix_id\":80001001,\"country_id\":46,\"title\":\"Comedy Showcase: Felix and Murdo\",\"delete_date\":\"2015-08-01\",\"country_code\":\"GB\"},{\"netflix_id\":70117304,\"country_id\":46,\"title\":\"A Warrior\\u0026#39;s Heart\",\"delete_date\":\"2015-08-01\",\"country_code\":\"GB\"},{\"netflix_id\":70066336,\"country_id\":46,\"title\":\"Delirious\",\"delete_date\":\"2015-08-01\",\"country_code\":\"GB\"},{\"netflix_id\":18957298,\"country_id\":46,\"title\":\"She\\u0026#39;s All That\",\"delete_date\":\"2015-08-01\",\"country_code\":\"GB\"},{\"netflix_id\":70205619,\"country_id\":46,\"title\":\"Angelina Ballerina\",\"delete_date\":\"2015-08-01\",\"country_code\":\"GB\"},{\"netflix_id\":70115822,\"country_id\":46,\"title\":\"A Perfect Getaway\",\"delete_date\":\"2015-08-01\",\"country_code\":\"GB\"},{\"netflix_id\":70205626,\"country_id\":46,\"title\":\"Bob the Builder\",\"delete_date\":\"2015-08-01\",\"country_code\":\"GB\"},{\"netflix_id\":70084829,\"country_id\":46,\"title\":\"Bob the Builder on Site: Roads and Bridges\",\"delete_date\":\"2015-08-01\",\"country_code\":\"GB\"},{\"netflix_id\":60000165,\"country_id\":46,\"title\":\"Erin Brockovich\",\"delete_date\":\"2015-08-01\",\"country_code\":\"GB\"},{\"netflix_id\":70011000,\"country_id\":46,\"title\":\"Bob the Builder: Snowed Under / The Bobblesberg Winter Games\",\"delete_date\":\"2015-08-01\",\"country_code\":\"GB\"},{\"netflix_id\":70095926,\"country_id\":46,\"title\":\"Cleaner\",\"delete_date\":\"2015-08-01\",\"country_code\":\"GB\"},{\"netflix_id\":70043304,\"country_id\":46,\"title\":\"The Cutting Edge: Going for the Gold\",\"delete_date\":\"2015-08-01\",\"country_code\":\"GB\"},{\"netflix_id\":60024946,\"country_id\":46,\"title\":\"Chicago\",\"delete_date\":\"2015-08-01\",\"country_code\":\"GB\"},{\"netflix_id\":60000891,\"country_id\":46,\"title\":\"Center Stage\",\"delete_date\":\"2015-08-01\",\"country_code\":\"GB\"},{\"netflix_id\":60029461,\"country_id\":46,\"title\":\"Carrie\",\"delete_date\":\"2015-08-01\",\"country_code\":\"GB\"},{\"netflix_id\":70036257,\"country_id\":46,\"title\":\"Thomas and Friends: Calling All Engines\",\"delete_date\":\"2015-08-01\",\"country_code\":\"GB\"},{\"netflix_id\":70127225,\"country_id\":46,\"title\":\"Red Dawn\",\"delete_date\":\"2015-08-01\",\"country_code\":\"GB\"},{\"netflix_id\":70136110,\"country_id\":46,\"title\":\"Farscape\",\"delete_date\":\"2015-08-01\",\"country_code\":\"GB\"},{\"netflix_id\":70051672,\"country_id\":46,\"title\":\"Flyboys\",\"delete_date\":\"2015-08-01\",\"country_code\":\"GB\"},{\"netflix_id\":70001999,\"country_id\":46,\"title\":\"Finding Neverland\",\"delete_date\":\"2015-08-01\",\"country_code\":\"GB\"},{\"netflix_id\":60021614,\"country_id\":46,\"title\":\"The People That Time Forgot\",\"delete_date\":\"2015-08-01\",\"country_code\":\"GB\"},{\"netflix_id\":80025601,\"country_id\":46,\"title\":\"The Get Down\",\"delete_date\":\"2015-08-01\",\"country_code\":\"GB\"}]}\n"
     ]
    }
   ],
   "source": [
    "url = \"https://unogs-unogs-v1.p.rapidapi.com/search/deleted\"\n",
    "\n",
    "querystring = {\"country_list\":\"46,78\"}\n",
    "\n",
    "headers = {\n",
    "\t\"X-RapidAPI-Key\": api_key,\n",
    "\t\"X-RapidAPI-Host\": \"unogs-unogs-v1.p.rapidapi.com\"\n",
    "}\n",
    "\n",
    "response = requests.request(\"GET\", url, headers=headers, params=querystring)\n",
    "\n",
    "print(response.text)"
   ]
  },
  {
   "cell_type": "code",
   "execution_count": 9,
   "metadata": {},
   "outputs": [
    {
     "data": {
      "text/html": [
       "<div>\n",
       "<style scoped>\n",
       "    .dataframe tbody tr th:only-of-type {\n",
       "        vertical-align: middle;\n",
       "    }\n",
       "\n",
       "    .dataframe tbody tr th {\n",
       "        vertical-align: top;\n",
       "    }\n",
       "\n",
       "    .dataframe thead th {\n",
       "        text-align: right;\n",
       "    }\n",
       "</style>\n",
       "<table border=\"1\" class=\"dataframe\">\n",
       "  <thead>\n",
       "    <tr style=\"text-align: right;\">\n",
       "      <th></th>\n",
       "    </tr>\n",
       "  </thead>\n",
       "  <tbody>\n",
       "    <tr>\n",
       "      <th>0</th>\n",
       "    </tr>\n",
       "    <tr>\n",
       "      <th>1</th>\n",
       "    </tr>\n",
       "    <tr>\n",
       "      <th>2</th>\n",
       "    </tr>\n",
       "    <tr>\n",
       "      <th>3</th>\n",
       "    </tr>\n",
       "    <tr>\n",
       "      <th>4</th>\n",
       "    </tr>\n",
       "    <tr>\n",
       "      <th>...</th>\n",
       "    </tr>\n",
       "    <tr>\n",
       "      <th>89</th>\n",
       "    </tr>\n",
       "    <tr>\n",
       "      <th>90</th>\n",
       "    </tr>\n",
       "    <tr>\n",
       "      <th>91</th>\n",
       "    </tr>\n",
       "    <tr>\n",
       "      <th>92</th>\n",
       "    </tr>\n",
       "    <tr>\n",
       "      <th>93</th>\n",
       "    </tr>\n",
       "  </tbody>\n",
       "</table>\n",
       "<p>94 rows × 0 columns</p>\n",
       "</div>"
      ],
      "text/plain": [
       "Empty DataFrame\n",
       "Columns: []\n",
       "Index: [0, 1, 2, 3, 4, 5, 6, 7, 8, 9, 10, 11, 12, 13, 14, 15, 16, 17, 18, 19, 20, 21, 22, 23, 24, 25, 26, 27, 28, 29, 30, 31, 32, 33, 34, 35, 36, 37, 38, 39, 40, 41, 42, 43, 44, 45, 46, 47, 48, 49, 50, 51, 52, 53, 54, 55, 56, 57, 58, 59, 60, 61, 62, 63, 64, 65, 66, 67, 68, 69, 70, 71, 72, 73, 74, 75, 76, 77, 78, 79, 80, 81, 82, 83, 84, 85, 86, 87, 88, 89, 90, 91, 92, 93]\n",
       "\n",
       "[94 rows x 0 columns]"
      ]
     },
     "execution_count": 9,
     "metadata": {},
     "output_type": "execute_result"
    }
   ],
   "source": [
    "netflix_df = pd.DataFrame.from_dict(pd.json_normalize(response), orient='columns')\n",
    "netflix_df"
   ]
  },
  {
   "cell_type": "code",
   "execution_count": 10,
   "metadata": {},
   "outputs": [
    {
     "ename": "NameError",
     "evalue": "name 'omdb_sample' is not defined",
     "output_type": "error",
     "traceback": [
      "\u001b[1;31m---------------------------------------------------------------------------\u001b[0m",
      "\u001b[1;31mNameError\u001b[0m                                 Traceback (most recent call last)",
      "\u001b[1;32me:\\workdocs\\Repos\\omdb api\\netflix\\netflix api and data.ipynb Cell 4\u001b[0m in \u001b[0;36m<cell line: 1>\u001b[1;34m()\u001b[0m\n\u001b[1;32m----> <a href='vscode-notebook-cell:/e%3A/workdocs/Repos/omdb%20api/netflix/netflix%20api%20and%20data.ipynb#W4sZmlsZQ%3D%3D?line=0'>1</a>\u001b[0m pd\u001b[39m.\u001b[39mDataFrame(netflix_df)\u001b[39m.\u001b[39mto_csv(omdb_sample\u001b[39m.\u001b[39mcsv)\n",
      "\u001b[1;31mNameError\u001b[0m: name 'omdb_sample' is not defined"
     ]
    }
   ],
   "source": [
    "pd.DataFrame(netflix_df).to_csv(omdb_sample.csv)"
   ]
  },
  {
   "cell_type": "code",
   "execution_count": 2,
   "metadata": {},
   "outputs": [
    {
     "name": "stdout",
     "output_type": "stream",
     "text": [
      "The director of Aliens was James Cameron.\n"
     ]
    }
   ],
   "source": [
    "\n",
    "print(f'The director of Aliens was {movie[\"Director\"]}.')"
   ]
  },
  {
   "cell_type": "code",
   "execution_count": 3,
   "metadata": {
    "scrolled": true
   },
   "outputs": [
    {
     "name": "stdout",
     "output_type": "stream",
     "text": [
      "The rating of Gladiator was R.\n"
     ]
    }
   ],
   "source": [
    "# What was the movie Gladiator rated?\n",
    "movie = requests.get(url + \"Gladiator\").json()\n",
    "print(f'The rating of Gladiator was {movie[\"Rated\"]}.')"
   ]
  },
  {
   "cell_type": "code",
   "execution_count": 4,
   "metadata": {},
   "outputs": [
    {
     "name": "stdout",
     "output_type": "stream",
     "text": [
      "The movie 50 First Dates was released in 2004.\n"
     ]
    }
   ],
   "source": [
    "# What year was 50 First Dates released?\n",
    "movie = requests.get(url + \"50 First Dates\").json()\n",
    "print(f'The movie 50 First Dates was released in {movie[\"Year\"]}.')"
   ]
  },
  {
   "cell_type": "code",
   "execution_count": 5,
   "metadata": {
    "scrolled": true
   },
   "outputs": [
    {
     "name": "stdout",
     "output_type": "stream",
     "text": [
      "Moana was written by Jared Bush (screenplay by), Ron Clements (story by), John Musker (story by), Chris Williams (story by), Don Hall (story by), Pamela Ribon (story by), Aaron Kandell (story by), Jordan Kandell (story by).\n"
     ]
    }
   ],
   "source": [
    "# Who wrote Moana?\n",
    "movie = requests.get(url + \"Moana\").json()\n",
    "print(f'Moana was written by {movie[\"Writer\"]}.')"
   ]
  },
  {
   "cell_type": "code",
   "execution_count": 6,
   "metadata": {
    "scrolled": true
   },
   "outputs": [
    {
     "name": "stdout",
     "output_type": "stream",
     "text": [
      "The plot of Sing was: In a city of humanoid animals, a hustling theater impresario's attempt to save his theater with a singing competition becomes grander than he anticipates even as its finalists' find that their lives will never be the same.\n"
     ]
    }
   ],
   "source": [
    "# What was the plot of the movie Sing?\n",
    "movie = requests.get(url + \"Sing\").json()\n",
    "print(f'The plot of Sing was: {movie[\"Plot\"]}')"
   ]
  }
 ],
 "metadata": {
  "kernelspec": {
   "display_name": "Python 3.9.12 ('base')",
   "language": "python",
   "name": "python3"
  },
  "language_info": {
   "codemirror_mode": {
    "name": "ipython",
    "version": 3
   },
   "file_extension": ".py",
   "mimetype": "text/x-python",
   "name": "python",
   "nbconvert_exporter": "python",
   "pygments_lexer": "ipython3",
   "version": "3.9.12"
  },
  "varInspector": {
   "cols": {
    "lenName": 16,
    "lenType": 16,
    "lenVar": 40
   },
   "kernels_config": {
    "python": {
     "delete_cmd_postfix": "",
     "delete_cmd_prefix": "del ",
     "library": "var_list.py",
     "varRefreshCmd": "print(var_dic_list())"
    },
    "r": {
     "delete_cmd_postfix": ") ",
     "delete_cmd_prefix": "rm(",
     "library": "var_list.r",
     "varRefreshCmd": "cat(var_dic_list()) "
    }
   },
   "types_to_exclude": [
    "module",
    "function",
    "builtin_function_or_method",
    "instance",
    "_Feature"
   ],
   "window_display": false
  },
  "vscode": {
   "interpreter": {
    "hash": "84d8cac4d95fdd2ab02498a6ec40a50cb9882041e67cb52e6d8bcfda00d28db9"
   }
  }
 },
 "nbformat": 4,
 "nbformat_minor": 2
}
