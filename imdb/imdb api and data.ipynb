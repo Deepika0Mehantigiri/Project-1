{
 "cells": [
  {
   "cell_type": "code",
   "execution_count": 8,
   "metadata": {
    "collapsed": true
   },
   "outputs": [],
   "source": [
    "# Dependencies\n",
    "import requests\n",
    "from config import api_key\n",
    "import pandas as pd\n",
    "import csv\n",
    "\n",
    "\n",
    "url = \"https://imdb8.p.rapidapi.com/auto-complete\""
   ]
  },
  {
   "cell_type": "code",
   "execution_count": 12,
   "metadata": {},
   "outputs": [
    {
     "ename": "NameError",
     "evalue": "name 'head' is not defined",
     "output_type": "error",
     "traceback": [
      "\u001b[1;31m---------------------------------------------------------------------------\u001b[0m",
      "\u001b[1;31mNameError\u001b[0m                                 Traceback (most recent call last)",
      "\u001b[1;32me:\\workdocs\\Repos\\Project-1\\imdb\\imdb api and data.ipynb Cell 2\u001b[0m in \u001b[0;36m<cell line: 10>\u001b[1;34m()\u001b[0m\n\u001b[0;32m      <a href='vscode-notebook-cell:/e%3A/workdocs/Repos/Project-1/imdb/imdb%20api%20and%20data.ipynb#W1sZmlsZQ%3D%3D?line=2'>3</a>\u001b[0m headers \u001b[39m=\u001b[39m {\n\u001b[0;32m      <a href='vscode-notebook-cell:/e%3A/workdocs/Repos/Project-1/imdb/imdb%20api%20and%20data.ipynb#W1sZmlsZQ%3D%3D?line=3'>4</a>\u001b[0m \t\u001b[39m\"\u001b[39m\u001b[39mX-RapidAPI-Key\u001b[39m\u001b[39m\"\u001b[39m: api_key,\n\u001b[0;32m      <a href='vscode-notebook-cell:/e%3A/workdocs/Repos/Project-1/imdb/imdb%20api%20and%20data.ipynb#W1sZmlsZQ%3D%3D?line=4'>5</a>\u001b[0m \t\u001b[39m\"\u001b[39m\u001b[39mX-RapidAPI-Host\u001b[39m\u001b[39m\"\u001b[39m: \u001b[39m\"\u001b[39m\u001b[39mimdb8.p.rapidapi.com\u001b[39m\u001b[39m\"\u001b[39m\n\u001b[0;32m      <a href='vscode-notebook-cell:/e%3A/workdocs/Repos/Project-1/imdb/imdb%20api%20and%20data.ipynb#W1sZmlsZQ%3D%3D?line=5'>6</a>\u001b[0m }\n\u001b[0;32m      <a href='vscode-notebook-cell:/e%3A/workdocs/Repos/Project-1/imdb/imdb%20api%20and%20data.ipynb#W1sZmlsZQ%3D%3D?line=7'>8</a>\u001b[0m movie \u001b[39m=\u001b[39m requests\u001b[39m.\u001b[39mrequest(\u001b[39m\"\u001b[39m\u001b[39mGET\u001b[39m\u001b[39m\"\u001b[39m, url, headers\u001b[39m=\u001b[39mheaders, params\u001b[39m=\u001b[39mquerystring)\n\u001b[1;32m---> <a href='vscode-notebook-cell:/e%3A/workdocs/Repos/Project-1/imdb/imdb%20api%20and%20data.ipynb#W1sZmlsZQ%3D%3D?line=9'>10</a>\u001b[0m movie(head)\n",
      "\u001b[1;31mNameError\u001b[0m: name 'head' is not defined"
     ]
    }
   ],
   "source": [
    "\n",
    "querystring = {\"q\":\"2022\"}\n",
    "\n",
    "headers = {\n",
    "\t\"X-RapidAPI-Key\": api_key,\n",
    "\t\"X-RapidAPI-Host\": \"imdb8.p.rapidapi.com\"\n",
    "}\n",
    "\n",
    "movie = requests.request(\"GET\", url, headers=headers, params=querystring)\n",
    "\n",
    "# movie(head)"
   ]
  },
  {
   "cell_type": "code",
   "execution_count": 19,
   "metadata": {},
   "outputs": [
    {
     "ename": "SyntaxError",
     "evalue": "invalid syntax (2679385261.py, line 2)",
     "output_type": "error",
     "traceback": [
      "\u001b[1;36m  Input \u001b[1;32mIn [19]\u001b[1;36m\u001b[0m\n\u001b[1;33m    pprint{movie}\u001b[0m\n\u001b[1;37m          ^\u001b[0m\n\u001b[1;31mSyntaxError\u001b[0m\u001b[1;31m:\u001b[0m invalid syntax\n"
     ]
    }
   ],
   "source": [
    "import pprint\n",
    "pprint{movie}"
   ]
  },
  {
   "cell_type": "code",
   "execution_count": 15,
   "metadata": {},
   "outputs": [
    {
     "data": {
      "text/html": [
       "<div>\n",
       "<style scoped>\n",
       "    .dataframe tbody tr th:only-of-type {\n",
       "        vertical-align: middle;\n",
       "    }\n",
       "\n",
       "    .dataframe tbody tr th {\n",
       "        vertical-align: top;\n",
       "    }\n",
       "\n",
       "    .dataframe thead th {\n",
       "        text-align: right;\n",
       "    }\n",
       "</style>\n",
       "<table border=\"1\" class=\"dataframe\">\n",
       "  <thead>\n",
       "    <tr style=\"text-align: right;\">\n",
       "      <th></th>\n",
       "      <th>0</th>\n",
       "    </tr>\n",
       "  </thead>\n",
       "  <tbody>\n",
       "    <tr>\n",
       "      <th>0</th>\n",
       "      <td>b'{\"d\":[{\"i\":{\"height\":4096,\"imageUrl\":\"https:...</td>\n",
       "    </tr>\n",
       "    <tr>\n",
       "      <th>1</th>\n",
       "      <td>b'EyXkFqcGdeQXVyMTEzMTI1Mjk3._V1_.jpg\",\"width\"...</td>\n",
       "    </tr>\n",
       "    <tr>\n",
       "      <th>2</th>\n",
       "      <td>b'\"tvMiniSeries\",\"rank\":4637,\"s\":\"United State...</td>\n",
       "    </tr>\n",
       "    <tr>\n",
       "      <th>3</th>\n",
       "      <td>b'22\"},{\"i\":{\"height\":910,\"imageUrl\":\"https://...</td>\n",
       "    </tr>\n",
       "    <tr>\n",
       "      <th>4</th>\n",
       "      <td>b'XkFqcGdeQXVyMTEwMTY3NDI@._V1_.jpg\",\"width\":6...</td>\n",
       "    </tr>\n",
       "    <tr>\n",
       "      <th>5</th>\n",
       "      <td>b':\"Agata Buzek, Andrzej Konopka\",\"y\":2020},{\"...</td>\n",
       "    </tr>\n",
       "    <tr>\n",
       "      <th>6</th>\n",
       "      <td>b'RlMy00MDhjLTlkNmQtNzQyMzBjM2M1YzY0XkEyXkFqcG...</td>\n",
       "    </tr>\n",
       "    <tr>\n",
       "      <th>7</th>\n",
       "      <td>b'\"feature\",\"qid\":\"movie\",\"rank\":15457,\"s\":\"Si...</td>\n",
       "    </tr>\n",
       "    <tr>\n",
       "      <th>8</th>\n",
       "      <td>b'azon.com/images/M/MV5BYTVjNDM2MWUtNzUzOS00YT...</td>\n",
       "    </tr>\n",
       "    <tr>\n",
       "      <th>9</th>\n",
       "      <td>b'\"tt15087414\",\"l\":\"Gaslight 2022\",\"q\":\"featur...</td>\n",
       "    </tr>\n",
       "    <tr>\n",
       "      <th>10</th>\n",
       "      <td>b',{\"i\":{\"height\":480,\"imageUrl\":\"https://m.me...</td>\n",
       "    </tr>\n",
       "    <tr>\n",
       "      <th>11</th>\n",
       "      <td>b'cGdeQXVyMTEwMTQ2NzAx._V1_.jpg\",\"width\":480},...</td>\n",
       "    </tr>\n",
       "    <tr>\n",
       "      <th>12</th>\n",
       "      <td>b'21353,\"s\":\"B. Simone, Marketta Patrice\"},{\"i...</td>\n",
       "    </tr>\n",
       "    <tr>\n",
       "      <th>13</th>\n",
       "      <td>b'Yy00YjkzLTk1ODAtZGRkNTQ5NmQ4ZmZiXkEyXkFqcGde...</td>\n",
       "    </tr>\n",
       "    <tr>\n",
       "      <th>14</th>\n",
       "      <td>b'\":\"short\",\"rank\":138864,\"s\":\"Dru Williams\",\"...</td>\n",
       "    </tr>\n",
       "    <tr>\n",
       "      <th>15</th>\n",
       "      <td>b'OTg1ODc2M15BMl5BanBnXkFtZTgwNTAxNzcwMzE@._V1...</td>\n",
       "    </tr>\n",
       "    <tr>\n",
       "      <th>16</th>\n",
       "      <td>b'\"rank\":51138,\"s\":\"Pisarn Srimunkhong, Sirind...</td>\n",
       "    </tr>\n",
       "    <tr>\n",
       "      <th>17</th>\n",
       "      <td>b'/M/MV5BZWRlODg0YTEtZTY4NS00YWQ3LWFmYmQtYzk5Y...</td>\n",
       "    </tr>\n",
       "    <tr>\n",
       "      <th>18</th>\n",
       "      <td>b'\":\"American Music Awards 2022\",\"q\":\"TV speci...</td>\n",
       "    </tr>\n",
       "    <tr>\n",
       "      <th>19</th>\n",
       "      <td>b'22\",\"v\":1}'</td>\n",
       "    </tr>\n",
       "  </tbody>\n",
       "</table>\n",
       "</div>"
      ],
      "text/plain": [
       "                                                    0\n",
       "0   b'{\"d\":[{\"i\":{\"height\":4096,\"imageUrl\":\"https:...\n",
       "1   b'EyXkFqcGdeQXVyMTEzMTI1Mjk3._V1_.jpg\",\"width\"...\n",
       "2   b'\"tvMiniSeries\",\"rank\":4637,\"s\":\"United State...\n",
       "3   b'22\"},{\"i\":{\"height\":910,\"imageUrl\":\"https://...\n",
       "4   b'XkFqcGdeQXVyMTEwMTY3NDI@._V1_.jpg\",\"width\":6...\n",
       "5   b':\"Agata Buzek, Andrzej Konopka\",\"y\":2020},{\"...\n",
       "6   b'RlMy00MDhjLTlkNmQtNzQyMzBjM2M1YzY0XkEyXkFqcG...\n",
       "7   b'\"feature\",\"qid\":\"movie\",\"rank\":15457,\"s\":\"Si...\n",
       "8   b'azon.com/images/M/MV5BYTVjNDM2MWUtNzUzOS00YT...\n",
       "9   b'\"tt15087414\",\"l\":\"Gaslight 2022\",\"q\":\"featur...\n",
       "10  b',{\"i\":{\"height\":480,\"imageUrl\":\"https://m.me...\n",
       "11  b'cGdeQXVyMTEwMTQ2NzAx._V1_.jpg\",\"width\":480},...\n",
       "12  b'21353,\"s\":\"B. Simone, Marketta Patrice\"},{\"i...\n",
       "13  b'Yy00YjkzLTk1ODAtZGRkNTQ5NmQ4ZmZiXkEyXkFqcGde...\n",
       "14  b'\":\"short\",\"rank\":138864,\"s\":\"Dru Williams\",\"...\n",
       "15  b'OTg1ODc2M15BMl5BanBnXkFtZTgwNTAxNzcwMzE@._V1...\n",
       "16  b'\"rank\":51138,\"s\":\"Pisarn Srimunkhong, Sirind...\n",
       "17  b'/M/MV5BZWRlODg0YTEtZTY4NS00YWQ3LWFmYmQtYzk5Y...\n",
       "18  b'\":\"American Music Awards 2022\",\"q\":\"TV speci...\n",
       "19                                      b'22\",\"v\":1}'"
      ]
     },
     "execution_count": 15,
     "metadata": {},
     "output_type": "execute_result"
    }
   ],
   "source": [
    "# imdb_df = pd.DataFrame.from_dict(pd.json_normalize(movie), orient='columns')\n",
    "imdb_df = pd.DataFrame.from_dict(movie, orient='columns')\n",
    "\n",
    "imdb_df"
   ]
  },
  {
   "cell_type": "code",
   "execution_count": 20,
   "metadata": {},
   "outputs": [],
   "source": [
    "pd.DataFrame(imdb_df).to_csv(\"imdb_sample.csv\")"
   ]
  }
 ],
 "metadata": {
  "kernelspec": {
   "display_name": "Python 3.9.12 ('base')",
   "language": "python",
   "name": "python3"
  },
  "language_info": {
   "codemirror_mode": {
    "name": "ipython",
    "version": 3
   },
   "file_extension": ".py",
   "mimetype": "text/x-python",
   "name": "python",
   "nbconvert_exporter": "python",
   "pygments_lexer": "ipython3",
   "version": "3.9.12"
  },
  "varInspector": {
   "cols": {
    "lenName": 16,
    "lenType": 16,
    "lenVar": 40
   },
   "kernels_config": {
    "python": {
     "delete_cmd_postfix": "",
     "delete_cmd_prefix": "del ",
     "library": "var_list.py",
     "varRefreshCmd": "print(var_dic_list())"
    },
    "r": {
     "delete_cmd_postfix": ") ",
     "delete_cmd_prefix": "rm(",
     "library": "var_list.r",
     "varRefreshCmd": "cat(var_dic_list()) "
    }
   },
   "types_to_exclude": [
    "module",
    "function",
    "builtin_function_or_method",
    "instance",
    "_Feature"
   ],
   "window_display": false
  },
  "vscode": {
   "interpreter": {
    "hash": "84d8cac4d95fdd2ab02498a6ec40a50cb9882041e67cb52e6d8bcfda00d28db9"
   }
  }
 },
 "nbformat": 4,
 "nbformat_minor": 2
}
